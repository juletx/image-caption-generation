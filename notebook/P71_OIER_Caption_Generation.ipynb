{
 "cells": [
  {
   "cell_type": "markdown",
   "metadata": {},
   "source": [
    "# Project 71: Automatic Caption Generation of Images\n",
    "\n",
    "## Authors: Oihane Cantero and Julen Etxaniz\n",
    "\n",
    "## Supervisors: Oier Lopez de Lacalle & Eneko Agirre\n",
    "\n",
    "## Subject: Machine Learning and Neural Networks\n",
    "\n",
    "## Date: \n",
    "\n",
    "## Objectives: \n",
    "### 1. Implement from scratch a caption generation model that uses a CNN to condition a LSTM based language model.\n",
    "### 2. Extend the basic caption generation system that incorporates an attention mechanism to the model.\n",
    "\n",
    "## Contents:"
   ]
  },
  {
   "cell_type": "code",
   "execution_count": null,
   "metadata": {},
   "outputs": [],
   "source": []
  }
 ],
 "metadata": {
  "kernelspec": {
   "display_name": "Python 3",
   "language": "python",
   "name": "python3"
  },
  "language_info": {
   "codemirror_mode": {
    "name": "ipython",
    "version": 3
   },
   "file_extension": ".py",
   "mimetype": "text/x-python",
   "name": "python",
   "nbconvert_exporter": "python",
   "pygments_lexer": "ipython3",
   "version": "3.6.9"
  }
 },
 "nbformat": 4,
 "nbformat_minor": 4
}
